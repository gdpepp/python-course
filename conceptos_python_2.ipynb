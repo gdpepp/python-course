{
  "nbformat": 4,
  "nbformat_minor": 0,
  "metadata": {
    "colab": {
      "provenance": [],
      "authorship_tag": "ABX9TyMfEAFWg4ZGEIUtyCbDpTpE",
      "include_colab_link": true
    },
    "kernelspec": {
      "name": "python3",
      "display_name": "Python 3"
    },
    "language_info": {
      "name": "python"
    }
  },
  "cells": [
    {
      "cell_type": "markdown",
      "metadata": {
        "id": "view-in-github",
        "colab_type": "text"
      },
      "source": [
        "<a href=\"https://colab.research.google.com/github/gdpepp/python-course/blob/master/conceptos_python_2.ipynb\" target=\"_parent\"><img src=\"https://colab.research.google.com/assets/colab-badge.svg\" alt=\"Open In Colab\"/></a>"
      ]
    },
    {
      "cell_type": "markdown",
      "source": [
        "Imprimir una cadena de Texto (agregar algún comentario en el bloque de código)\n"
      ],
      "metadata": {
        "id": "nv1ONgWdwd0B"
      }
    },
    {
      "cell_type": "code",
      "execution_count": 5,
      "metadata": {
        "colab": {
          "base_uri": "https://localhost:8080/"
        },
        "id": "5kYCbRoOwRa9",
        "outputId": "0ddac675-7de6-4d8a-8b8d-e1e9e31fa7d3"
      },
      "outputs": [
        {
          "output_type": "stream",
          "name": "stdout",
          "text": [
            "Hola Oli!! te amo!\n"
          ]
        }
      ],
      "source": [
        "# Funcion para imprmir\n",
        "print(\"Hola Oli!! te amo!\")"
      ]
    },
    {
      "cell_type": "markdown",
      "source": [
        "Crear una variable, asignarle un valor e imprimirlo por consola"
      ],
      "metadata": {
        "id": "krikVzPcxnfn"
      }
    },
    {
      "cell_type": "code",
      "source": [
        "# Asignacion de una renta\n",
        "\n",
        "renta = 150000.65\n",
        "print (renta)"
      ],
      "metadata": {
        "colab": {
          "base_uri": "https://localhost:8080/"
        },
        "id": "a5As7tI4xmgp",
        "outputId": "3cb43169-3f49-4a5e-cf22-510b02120ae9"
      },
      "execution_count": 10,
      "outputs": [
        {
          "output_type": "stream",
          "name": "stdout",
          "text": [
            "150000.65\n"
          ]
        }
      ]
    },
    {
      "cell_type": "markdown",
      "source": [
        "Revisar atributos de un objeto"
      ],
      "metadata": {
        "id": "u_epDEINyhcs"
      }
    },
    {
      "cell_type": "code",
      "source": [
        "[] # Atributo de un objeto\n",
        "print(renta.real)"
      ],
      "metadata": {
        "colab": {
          "base_uri": "https://localhost:8080/"
        },
        "id": "4pEQ3exayi-M",
        "outputId": "2d4111d4-fe80-478c-dfbc-1e42df48e541"
      },
      "execution_count": 11,
      "outputs": [
        {
          "output_type": "stream",
          "name": "stdout",
          "text": [
            "150000.65\n"
          ]
        }
      ]
    },
    {
      "cell_type": "markdown",
      "source": [
        "Métodos de un objeto"
      ],
      "metadata": {
        "id": "ELYulcmNzRxC"
      }
    },
    {
      "cell_type": "code",
      "source": [
        "# Metodo de un objeto\n",
        "renta.is_integer()"
      ],
      "metadata": {
        "colab": {
          "base_uri": "https://localhost:8080/"
        },
        "id": "DCVn9bSKzWb5",
        "outputId": "bc6abb43-aaaa-42a1-8deb-4d4f83088793"
      },
      "execution_count": 16,
      "outputs": [
        {
          "output_type": "execute_result",
          "data": {
            "text/plain": [
              "False"
            ]
          },
          "metadata": {},
          "execution_count": 16
        }
      ]
    }
  ]
}