{
  "nbformat": 4,
  "nbformat_minor": 0,
  "metadata": {
    "colab": {
      "provenance": [],
      "authorship_tag": "ABX9TyM2trDsAXKmdZHuKdtVRjJ5",
      "include_colab_link": true
    },
    "kernelspec": {
      "name": "python3",
      "display_name": "Python 3"
    },
    "language_info": {
      "name": "python"
    }
  },
  "cells": [
    {
      "cell_type": "markdown",
      "metadata": {
        "id": "view-in-github",
        "colab_type": "text"
      },
      "source": [
        "<a href=\"https://colab.research.google.com/github/gdpepp/python-course/blob/master/Smoking_model.ipynb\" target=\"_parent\"><img src=\"https://colab.research.google.com/assets/colab-badge.svg\" alt=\"Open In Colab\"/></a>"
      ]
    },
    {
      "cell_type": "markdown",
      "source": [
        "Carga de Datos"
      ],
      "metadata": {
        "id": "azXh_gN0jOmx"
      }
    },
    {
      "cell_type": "code",
      "source": [
        "from google.colab import files\n",
        "import pandas as pd\n",
        "\n",
        "# Subís los dos archivos manualmente\n",
        "uploaded = files.upload()\n",
        "\n",
        "# Luego los cargas con el nombre exacto que aparece\n",
        "df = pd.read_excel(\"smoking prediction.xlsx\")              # Este es el que contiene la columna 'smoking'\n",
        "df_entrega = pd.read_excel(\"smoking prediction entrega.xlsx\")  # Este es el de entrega, sin etiquetas\n",
        "\n"
      ],
      "metadata": {
        "colab": {
          "base_uri": "https://localhost:8080/",
          "height": 73
        },
        "id": "bWId4RQYjze9",
        "outputId": "87450fc0-e565-4410-a908-ffdb30ab3373"
      },
      "execution_count": 21,
      "outputs": [
        {
          "output_type": "display_data",
          "data": {
            "text/plain": [
              "<IPython.core.display.HTML object>"
            ],
            "text/html": [
              "\n",
              "     <input type=\"file\" id=\"files-c3cb0bd3-d1a3-4204-9562-5b6611c7dacd\" name=\"files[]\" multiple disabled\n",
              "        style=\"border:none\" />\n",
              "     <output id=\"result-c3cb0bd3-d1a3-4204-9562-5b6611c7dacd\">\n",
              "      Upload widget is only available when the cell has been executed in the\n",
              "      current browser session. Please rerun this cell to enable.\n",
              "      </output>\n",
              "      <script>// Copyright 2017 Google LLC\n",
              "//\n",
              "// Licensed under the Apache License, Version 2.0 (the \"License\");\n",
              "// you may not use this file except in compliance with the License.\n",
              "// You may obtain a copy of the License at\n",
              "//\n",
              "//      http://www.apache.org/licenses/LICENSE-2.0\n",
              "//\n",
              "// Unless required by applicable law or agreed to in writing, software\n",
              "// distributed under the License is distributed on an \"AS IS\" BASIS,\n",
              "// WITHOUT WARRANTIES OR CONDITIONS OF ANY KIND, either express or implied.\n",
              "// See the License for the specific language governing permissions and\n",
              "// limitations under the License.\n",
              "\n",
              "/**\n",
              " * @fileoverview Helpers for google.colab Python module.\n",
              " */\n",
              "(function(scope) {\n",
              "function span(text, styleAttributes = {}) {\n",
              "  const element = document.createElement('span');\n",
              "  element.textContent = text;\n",
              "  for (const key of Object.keys(styleAttributes)) {\n",
              "    element.style[key] = styleAttributes[key];\n",
              "  }\n",
              "  return element;\n",
              "}\n",
              "\n",
              "// Max number of bytes which will be uploaded at a time.\n",
              "const MAX_PAYLOAD_SIZE = 100 * 1024;\n",
              "\n",
              "function _uploadFiles(inputId, outputId) {\n",
              "  const steps = uploadFilesStep(inputId, outputId);\n",
              "  const outputElement = document.getElementById(outputId);\n",
              "  // Cache steps on the outputElement to make it available for the next call\n",
              "  // to uploadFilesContinue from Python.\n",
              "  outputElement.steps = steps;\n",
              "\n",
              "  return _uploadFilesContinue(outputId);\n",
              "}\n",
              "\n",
              "// This is roughly an async generator (not supported in the browser yet),\n",
              "// where there are multiple asynchronous steps and the Python side is going\n",
              "// to poll for completion of each step.\n",
              "// This uses a Promise to block the python side on completion of each step,\n",
              "// then passes the result of the previous step as the input to the next step.\n",
              "function _uploadFilesContinue(outputId) {\n",
              "  const outputElement = document.getElementById(outputId);\n",
              "  const steps = outputElement.steps;\n",
              "\n",
              "  const next = steps.next(outputElement.lastPromiseValue);\n",
              "  return Promise.resolve(next.value.promise).then((value) => {\n",
              "    // Cache the last promise value to make it available to the next\n",
              "    // step of the generator.\n",
              "    outputElement.lastPromiseValue = value;\n",
              "    return next.value.response;\n",
              "  });\n",
              "}\n",
              "\n",
              "/**\n",
              " * Generator function which is called between each async step of the upload\n",
              " * process.\n",
              " * @param {string} inputId Element ID of the input file picker element.\n",
              " * @param {string} outputId Element ID of the output display.\n",
              " * @return {!Iterable<!Object>} Iterable of next steps.\n",
              " */\n",
              "function* uploadFilesStep(inputId, outputId) {\n",
              "  const inputElement = document.getElementById(inputId);\n",
              "  inputElement.disabled = false;\n",
              "\n",
              "  const outputElement = document.getElementById(outputId);\n",
              "  outputElement.innerHTML = '';\n",
              "\n",
              "  const pickedPromise = new Promise((resolve) => {\n",
              "    inputElement.addEventListener('change', (e) => {\n",
              "      resolve(e.target.files);\n",
              "    });\n",
              "  });\n",
              "\n",
              "  const cancel = document.createElement('button');\n",
              "  inputElement.parentElement.appendChild(cancel);\n",
              "  cancel.textContent = 'Cancel upload';\n",
              "  const cancelPromise = new Promise((resolve) => {\n",
              "    cancel.onclick = () => {\n",
              "      resolve(null);\n",
              "    };\n",
              "  });\n",
              "\n",
              "  // Wait for the user to pick the files.\n",
              "  const files = yield {\n",
              "    promise: Promise.race([pickedPromise, cancelPromise]),\n",
              "    response: {\n",
              "      action: 'starting',\n",
              "    }\n",
              "  };\n",
              "\n",
              "  cancel.remove();\n",
              "\n",
              "  // Disable the input element since further picks are not allowed.\n",
              "  inputElement.disabled = true;\n",
              "\n",
              "  if (!files) {\n",
              "    return {\n",
              "      response: {\n",
              "        action: 'complete',\n",
              "      }\n",
              "    };\n",
              "  }\n",
              "\n",
              "  for (const file of files) {\n",
              "    const li = document.createElement('li');\n",
              "    li.append(span(file.name, {fontWeight: 'bold'}));\n",
              "    li.append(span(\n",
              "        `(${file.type || 'n/a'}) - ${file.size} bytes, ` +\n",
              "        `last modified: ${\n",
              "            file.lastModifiedDate ? file.lastModifiedDate.toLocaleDateString() :\n",
              "                                    'n/a'} - `));\n",
              "    const percent = span('0% done');\n",
              "    li.appendChild(percent);\n",
              "\n",
              "    outputElement.appendChild(li);\n",
              "\n",
              "    const fileDataPromise = new Promise((resolve) => {\n",
              "      const reader = new FileReader();\n",
              "      reader.onload = (e) => {\n",
              "        resolve(e.target.result);\n",
              "      };\n",
              "      reader.readAsArrayBuffer(file);\n",
              "    });\n",
              "    // Wait for the data to be ready.\n",
              "    let fileData = yield {\n",
              "      promise: fileDataPromise,\n",
              "      response: {\n",
              "        action: 'continue',\n",
              "      }\n",
              "    };\n",
              "\n",
              "    // Use a chunked sending to avoid message size limits. See b/62115660.\n",
              "    let position = 0;\n",
              "    do {\n",
              "      const length = Math.min(fileData.byteLength - position, MAX_PAYLOAD_SIZE);\n",
              "      const chunk = new Uint8Array(fileData, position, length);\n",
              "      position += length;\n",
              "\n",
              "      const base64 = btoa(String.fromCharCode.apply(null, chunk));\n",
              "      yield {\n",
              "        response: {\n",
              "          action: 'append',\n",
              "          file: file.name,\n",
              "          data: base64,\n",
              "        },\n",
              "      };\n",
              "\n",
              "      let percentDone = fileData.byteLength === 0 ?\n",
              "          100 :\n",
              "          Math.round((position / fileData.byteLength) * 100);\n",
              "      percent.textContent = `${percentDone}% done`;\n",
              "\n",
              "    } while (position < fileData.byteLength);\n",
              "  }\n",
              "\n",
              "  // All done.\n",
              "  yield {\n",
              "    response: {\n",
              "      action: 'complete',\n",
              "    }\n",
              "  };\n",
              "}\n",
              "\n",
              "scope.google = scope.google || {};\n",
              "scope.google.colab = scope.google.colab || {};\n",
              "scope.google.colab._files = {\n",
              "  _uploadFiles,\n",
              "  _uploadFilesContinue,\n",
              "};\n",
              "})(self);\n",
              "</script> "
            ]
          },
          "metadata": {}
        },
        {
          "output_type": "stream",
          "name": "stdout",
          "text": [
            "Saving smoking prediction.xlsx to smoking prediction (2).xlsx\n"
          ]
        }
      ]
    },
    {
      "cell_type": "markdown",
      "source": [
        "EDA (Exploración de Datos) y Limpieza"
      ],
      "metadata": {
        "id": "_yQ3OUXh_G9Z"
      }
    },
    {
      "cell_type": "code",
      "source": [
        "\n",
        "# Mostramos información general: filas, columnas, tipos de datos\n",
        "df.info()\n",
        "\n",
        "# Verificamos valores faltantes (NaNs)\n",
        "print(\"\\nValores faltantes por columna:\")\n",
        "print(df.isnull().sum().sort_values(ascending=False))\n",
        "\n",
        "# Mostramos estadísticas generales de todas las columnas numéricas\n",
        "df.describe()\n"
      ],
      "metadata": {
        "colab": {
          "base_uri": "https://localhost:8080/",
          "height": 1000
        },
        "id": "rMjM8K7x17qh",
        "outputId": "16821366-eae2-492a-b865-1997d61cafb6"
      },
      "execution_count": 22,
      "outputs": [
        {
          "output_type": "stream",
          "name": "stdout",
          "text": [
            "<class 'pandas.core.frame.DataFrame'>\n",
            "RangeIndex: 50000 entries, 0 to 49999\n",
            "Data columns (total 27 columns):\n",
            " #   Column               Non-Null Count  Dtype  \n",
            "---  ------               --------------  -----  \n",
            " 0   ID                   50000 non-null  int64  \n",
            " 1   gender               50000 non-null  object \n",
            " 2   age                  50000 non-null  int64  \n",
            " 3   height(cm)           50000 non-null  int64  \n",
            " 4   weight(kg)           50000 non-null  int64  \n",
            " 5   waist(cm)            50000 non-null  float64\n",
            " 6   eyesight(left)       50000 non-null  float64\n",
            " 7   eyesight(right)      50000 non-null  float64\n",
            " 8   hearing(left)        50000 non-null  float64\n",
            " 9   hearing(right)       50000 non-null  float64\n",
            " 10  systolic             50000 non-null  float64\n",
            " 11  relaxation           50000 non-null  float64\n",
            " 12  fasting blood sugar  50000 non-null  float64\n",
            " 13  Cholesterol          50000 non-null  float64\n",
            " 14  triglyceride         50000 non-null  float64\n",
            " 15  HDL                  50000 non-null  float64\n",
            " 16  LDL                  50000 non-null  float64\n",
            " 17  hemoglobin           50000 non-null  float64\n",
            " 18  Urine protein        50000 non-null  float64\n",
            " 19  serum creatinine     50000 non-null  float64\n",
            " 20  AST                  50000 non-null  float64\n",
            " 21  ALT                  50000 non-null  float64\n",
            " 22  Gtp                  50000 non-null  float64\n",
            " 23  oral                 50000 non-null  object \n",
            " 24  dental caries        50000 non-null  int64  \n",
            " 25  tartar               50000 non-null  object \n",
            " 26  smoking              50000 non-null  int64  \n",
            "dtypes: float64(18), int64(6), object(3)\n",
            "memory usage: 10.3+ MB\n",
            "\n",
            "Valores faltantes por columna:\n",
            "ID                     0\n",
            "gender                 0\n",
            "age                    0\n",
            "height(cm)             0\n",
            "weight(kg)             0\n",
            "waist(cm)              0\n",
            "eyesight(left)         0\n",
            "eyesight(right)        0\n",
            "hearing(left)          0\n",
            "hearing(right)         0\n",
            "systolic               0\n",
            "relaxation             0\n",
            "fasting blood sugar    0\n",
            "Cholesterol            0\n",
            "triglyceride           0\n",
            "HDL                    0\n",
            "LDL                    0\n",
            "hemoglobin             0\n",
            "Urine protein          0\n",
            "serum creatinine       0\n",
            "AST                    0\n",
            "ALT                    0\n",
            "Gtp                    0\n",
            "oral                   0\n",
            "dental caries          0\n",
            "tartar                 0\n",
            "smoking                0\n",
            "dtype: int64\n"
          ]
        },
        {
          "output_type": "execute_result",
          "data": {
            "text/plain": [
              "                 ID           age    height(cm)    weight(kg)     waist(cm)  \\\n",
              "count  50000.000000  50000.000000  50000.000000  50000.000000  50000.000000   \n",
              "mean   26284.994580     44.189300    164.652000     65.878700      3.414852   \n",
              "std    16015.070567     12.090086      9.208778     12.831355      0.386765   \n",
              "min        0.000000     20.000000    130.000000     30.000000      2.125000   \n",
              "25%    12499.750000     40.000000    160.000000     55.000000      3.166667   \n",
              "50%    24999.500000     40.000000    165.000000     65.000000      3.416667   \n",
              "75%    40034.250000     55.000000    170.000000     75.000000      3.666667   \n",
              "max    55690.000000     85.000000    190.000000    135.000000      5.375000   \n",
              "\n",
              "       eyesight(left)  eyesight(right)  hearing(left)  hearing(right)  \\\n",
              "count    50000.000000     50000.000000   50000.000000    50000.000000   \n",
              "mean         0.028446         0.028304       0.042736        0.042758   \n",
              "std          0.024007         0.024216       0.006588        0.006655   \n",
              "min          0.000694         0.000694       0.041667        0.041667   \n",
              "25%          0.005556         0.005556       0.041667        0.041667   \n",
              "50%          0.041667         0.041667       0.041667        0.041667   \n",
              "75%          0.043056         0.043056       0.041667        0.041667   \n",
              "max          0.381250         0.381250       0.083333        0.083333   \n",
              "\n",
              "           systolic  ...           HDL           LDL    hemoglobin  \\\n",
              "count  50000.000000  ...  50000.000000  50000.000000  50000.000000   \n",
              "mean       5.062531  ...      2.387543      4.790698      0.593785   \n",
              "std        0.570100  ...      0.615559      1.709238      0.065870   \n",
              "min        2.958333  ...      0.166667      0.041667      0.172917   \n",
              "25%        4.666667  ...      1.958333      3.833333      0.545833   \n",
              "50%        5.000000  ...      2.291667      4.708333      0.588889   \n",
              "75%        5.416667  ...      2.750000      5.666667      0.630556   \n",
              "max       10.000000  ...     25.750000     77.500000      0.875694   \n",
              "\n",
              "       Urine protein  serum creatinine           AST           ALT  \\\n",
              "count   50000.000000      50000.000000  50000.000000  50000.000000   \n",
              "mean        0.045290          0.018821      1.093193      1.129345   \n",
              "std         0.016872          0.018432      0.827986      1.327431   \n",
              "min         0.041667          0.000694      0.250000      0.041667   \n",
              "25%         0.041667          0.005556      0.791667      0.625000   \n",
              "50%         0.041667          0.006250      0.958333      0.875000   \n",
              "75%         0.041667          0.041667      1.208333      1.291667   \n",
              "max         0.250000          0.462500     54.625000    121.416667   \n",
              "\n",
              "                Gtp  dental caries       smoking  \n",
              "count  50000.000000   50000.000000  50000.000000  \n",
              "mean       1.668142       0.213120      0.366580  \n",
              "std        2.110347       0.409516      0.481875  \n",
              "min        0.041667       0.000000      0.000000  \n",
              "25%        0.708333       0.000000      0.000000  \n",
              "50%        1.041667       0.000000      0.000000  \n",
              "75%        1.833333       0.000000      1.000000  \n",
              "max       41.625000       1.000000      1.000000  \n",
              "\n",
              "[8 rows x 24 columns]"
            ],
            "text/html": [
              "\n",
              "  <div id=\"df-50214220-6497-43f0-8d61-8a161c0fa917\" class=\"colab-df-container\">\n",
              "    <div>\n",
              "<style scoped>\n",
              "    .dataframe tbody tr th:only-of-type {\n",
              "        vertical-align: middle;\n",
              "    }\n",
              "\n",
              "    .dataframe tbody tr th {\n",
              "        vertical-align: top;\n",
              "    }\n",
              "\n",
              "    .dataframe thead th {\n",
              "        text-align: right;\n",
              "    }\n",
              "</style>\n",
              "<table border=\"1\" class=\"dataframe\">\n",
              "  <thead>\n",
              "    <tr style=\"text-align: right;\">\n",
              "      <th></th>\n",
              "      <th>ID</th>\n",
              "      <th>age</th>\n",
              "      <th>height(cm)</th>\n",
              "      <th>weight(kg)</th>\n",
              "      <th>waist(cm)</th>\n",
              "      <th>eyesight(left)</th>\n",
              "      <th>eyesight(right)</th>\n",
              "      <th>hearing(left)</th>\n",
              "      <th>hearing(right)</th>\n",
              "      <th>systolic</th>\n",
              "      <th>...</th>\n",
              "      <th>HDL</th>\n",
              "      <th>LDL</th>\n",
              "      <th>hemoglobin</th>\n",
              "      <th>Urine protein</th>\n",
              "      <th>serum creatinine</th>\n",
              "      <th>AST</th>\n",
              "      <th>ALT</th>\n",
              "      <th>Gtp</th>\n",
              "      <th>dental caries</th>\n",
              "      <th>smoking</th>\n",
              "    </tr>\n",
              "  </thead>\n",
              "  <tbody>\n",
              "    <tr>\n",
              "      <th>count</th>\n",
              "      <td>50000.000000</td>\n",
              "      <td>50000.000000</td>\n",
              "      <td>50000.000000</td>\n",
              "      <td>50000.000000</td>\n",
              "      <td>50000.000000</td>\n",
              "      <td>50000.000000</td>\n",
              "      <td>50000.000000</td>\n",
              "      <td>50000.000000</td>\n",
              "      <td>50000.000000</td>\n",
              "      <td>50000.000000</td>\n",
              "      <td>...</td>\n",
              "      <td>50000.000000</td>\n",
              "      <td>50000.000000</td>\n",
              "      <td>50000.000000</td>\n",
              "      <td>50000.000000</td>\n",
              "      <td>50000.000000</td>\n",
              "      <td>50000.000000</td>\n",
              "      <td>50000.000000</td>\n",
              "      <td>50000.000000</td>\n",
              "      <td>50000.000000</td>\n",
              "      <td>50000.000000</td>\n",
              "    </tr>\n",
              "    <tr>\n",
              "      <th>mean</th>\n",
              "      <td>26284.994580</td>\n",
              "      <td>44.189300</td>\n",
              "      <td>164.652000</td>\n",
              "      <td>65.878700</td>\n",
              "      <td>3.414852</td>\n",
              "      <td>0.028446</td>\n",
              "      <td>0.028304</td>\n",
              "      <td>0.042736</td>\n",
              "      <td>0.042758</td>\n",
              "      <td>5.062531</td>\n",
              "      <td>...</td>\n",
              "      <td>2.387543</td>\n",
              "      <td>4.790698</td>\n",
              "      <td>0.593785</td>\n",
              "      <td>0.045290</td>\n",
              "      <td>0.018821</td>\n",
              "      <td>1.093193</td>\n",
              "      <td>1.129345</td>\n",
              "      <td>1.668142</td>\n",
              "      <td>0.213120</td>\n",
              "      <td>0.366580</td>\n",
              "    </tr>\n",
              "    <tr>\n",
              "      <th>std</th>\n",
              "      <td>16015.070567</td>\n",
              "      <td>12.090086</td>\n",
              "      <td>9.208778</td>\n",
              "      <td>12.831355</td>\n",
              "      <td>0.386765</td>\n",
              "      <td>0.024007</td>\n",
              "      <td>0.024216</td>\n",
              "      <td>0.006588</td>\n",
              "      <td>0.006655</td>\n",
              "      <td>0.570100</td>\n",
              "      <td>...</td>\n",
              "      <td>0.615559</td>\n",
              "      <td>1.709238</td>\n",
              "      <td>0.065870</td>\n",
              "      <td>0.016872</td>\n",
              "      <td>0.018432</td>\n",
              "      <td>0.827986</td>\n",
              "      <td>1.327431</td>\n",
              "      <td>2.110347</td>\n",
              "      <td>0.409516</td>\n",
              "      <td>0.481875</td>\n",
              "    </tr>\n",
              "    <tr>\n",
              "      <th>min</th>\n",
              "      <td>0.000000</td>\n",
              "      <td>20.000000</td>\n",
              "      <td>130.000000</td>\n",
              "      <td>30.000000</td>\n",
              "      <td>2.125000</td>\n",
              "      <td>0.000694</td>\n",
              "      <td>0.000694</td>\n",
              "      <td>0.041667</td>\n",
              "      <td>0.041667</td>\n",
              "      <td>2.958333</td>\n",
              "      <td>...</td>\n",
              "      <td>0.166667</td>\n",
              "      <td>0.041667</td>\n",
              "      <td>0.172917</td>\n",
              "      <td>0.041667</td>\n",
              "      <td>0.000694</td>\n",
              "      <td>0.250000</td>\n",
              "      <td>0.041667</td>\n",
              "      <td>0.041667</td>\n",
              "      <td>0.000000</td>\n",
              "      <td>0.000000</td>\n",
              "    </tr>\n",
              "    <tr>\n",
              "      <th>25%</th>\n",
              "      <td>12499.750000</td>\n",
              "      <td>40.000000</td>\n",
              "      <td>160.000000</td>\n",
              "      <td>55.000000</td>\n",
              "      <td>3.166667</td>\n",
              "      <td>0.005556</td>\n",
              "      <td>0.005556</td>\n",
              "      <td>0.041667</td>\n",
              "      <td>0.041667</td>\n",
              "      <td>4.666667</td>\n",
              "      <td>...</td>\n",
              "      <td>1.958333</td>\n",
              "      <td>3.833333</td>\n",
              "      <td>0.545833</td>\n",
              "      <td>0.041667</td>\n",
              "      <td>0.005556</td>\n",
              "      <td>0.791667</td>\n",
              "      <td>0.625000</td>\n",
              "      <td>0.708333</td>\n",
              "      <td>0.000000</td>\n",
              "      <td>0.000000</td>\n",
              "    </tr>\n",
              "    <tr>\n",
              "      <th>50%</th>\n",
              "      <td>24999.500000</td>\n",
              "      <td>40.000000</td>\n",
              "      <td>165.000000</td>\n",
              "      <td>65.000000</td>\n",
              "      <td>3.416667</td>\n",
              "      <td>0.041667</td>\n",
              "      <td>0.041667</td>\n",
              "      <td>0.041667</td>\n",
              "      <td>0.041667</td>\n",
              "      <td>5.000000</td>\n",
              "      <td>...</td>\n",
              "      <td>2.291667</td>\n",
              "      <td>4.708333</td>\n",
              "      <td>0.588889</td>\n",
              "      <td>0.041667</td>\n",
              "      <td>0.006250</td>\n",
              "      <td>0.958333</td>\n",
              "      <td>0.875000</td>\n",
              "      <td>1.041667</td>\n",
              "      <td>0.000000</td>\n",
              "      <td>0.000000</td>\n",
              "    </tr>\n",
              "    <tr>\n",
              "      <th>75%</th>\n",
              "      <td>40034.250000</td>\n",
              "      <td>55.000000</td>\n",
              "      <td>170.000000</td>\n",
              "      <td>75.000000</td>\n",
              "      <td>3.666667</td>\n",
              "      <td>0.043056</td>\n",
              "      <td>0.043056</td>\n",
              "      <td>0.041667</td>\n",
              "      <td>0.041667</td>\n",
              "      <td>5.416667</td>\n",
              "      <td>...</td>\n",
              "      <td>2.750000</td>\n",
              "      <td>5.666667</td>\n",
              "      <td>0.630556</td>\n",
              "      <td>0.041667</td>\n",
              "      <td>0.041667</td>\n",
              "      <td>1.208333</td>\n",
              "      <td>1.291667</td>\n",
              "      <td>1.833333</td>\n",
              "      <td>0.000000</td>\n",
              "      <td>1.000000</td>\n",
              "    </tr>\n",
              "    <tr>\n",
              "      <th>max</th>\n",
              "      <td>55690.000000</td>\n",
              "      <td>85.000000</td>\n",
              "      <td>190.000000</td>\n",
              "      <td>135.000000</td>\n",
              "      <td>5.375000</td>\n",
              "      <td>0.381250</td>\n",
              "      <td>0.381250</td>\n",
              "      <td>0.083333</td>\n",
              "      <td>0.083333</td>\n",
              "      <td>10.000000</td>\n",
              "      <td>...</td>\n",
              "      <td>25.750000</td>\n",
              "      <td>77.500000</td>\n",
              "      <td>0.875694</td>\n",
              "      <td>0.250000</td>\n",
              "      <td>0.462500</td>\n",
              "      <td>54.625000</td>\n",
              "      <td>121.416667</td>\n",
              "      <td>41.625000</td>\n",
              "      <td>1.000000</td>\n",
              "      <td>1.000000</td>\n",
              "    </tr>\n",
              "  </tbody>\n",
              "</table>\n",
              "<p>8 rows × 24 columns</p>\n",
              "</div>\n",
              "    <div class=\"colab-df-buttons\">\n",
              "\n",
              "  <div class=\"colab-df-container\">\n",
              "    <button class=\"colab-df-convert\" onclick=\"convertToInteractive('df-50214220-6497-43f0-8d61-8a161c0fa917')\"\n",
              "            title=\"Convert this dataframe to an interactive table.\"\n",
              "            style=\"display:none;\">\n",
              "\n",
              "  <svg xmlns=\"http://www.w3.org/2000/svg\" height=\"24px\" viewBox=\"0 -960 960 960\">\n",
              "    <path d=\"M120-120v-720h720v720H120Zm60-500h600v-160H180v160Zm220 220h160v-160H400v160Zm0 220h160v-160H400v160ZM180-400h160v-160H180v160Zm440 0h160v-160H620v160ZM180-180h160v-160H180v160Zm440 0h160v-160H620v160Z\"/>\n",
              "  </svg>\n",
              "    </button>\n",
              "\n",
              "  <style>\n",
              "    .colab-df-container {\n",
              "      display:flex;\n",
              "      gap: 12px;\n",
              "    }\n",
              "\n",
              "    .colab-df-convert {\n",
              "      background-color: #E8F0FE;\n",
              "      border: none;\n",
              "      border-radius: 50%;\n",
              "      cursor: pointer;\n",
              "      display: none;\n",
              "      fill: #1967D2;\n",
              "      height: 32px;\n",
              "      padding: 0 0 0 0;\n",
              "      width: 32px;\n",
              "    }\n",
              "\n",
              "    .colab-df-convert:hover {\n",
              "      background-color: #E2EBFA;\n",
              "      box-shadow: 0px 1px 2px rgba(60, 64, 67, 0.3), 0px 1px 3px 1px rgba(60, 64, 67, 0.15);\n",
              "      fill: #174EA6;\n",
              "    }\n",
              "\n",
              "    .colab-df-buttons div {\n",
              "      margin-bottom: 4px;\n",
              "    }\n",
              "\n",
              "    [theme=dark] .colab-df-convert {\n",
              "      background-color: #3B4455;\n",
              "      fill: #D2E3FC;\n",
              "    }\n",
              "\n",
              "    [theme=dark] .colab-df-convert:hover {\n",
              "      background-color: #434B5C;\n",
              "      box-shadow: 0px 1px 3px 1px rgba(0, 0, 0, 0.15);\n",
              "      filter: drop-shadow(0px 1px 2px rgba(0, 0, 0, 0.3));\n",
              "      fill: #FFFFFF;\n",
              "    }\n",
              "  </style>\n",
              "\n",
              "    <script>\n",
              "      const buttonEl =\n",
              "        document.querySelector('#df-50214220-6497-43f0-8d61-8a161c0fa917 button.colab-df-convert');\n",
              "      buttonEl.style.display =\n",
              "        google.colab.kernel.accessAllowed ? 'block' : 'none';\n",
              "\n",
              "      async function convertToInteractive(key) {\n",
              "        const element = document.querySelector('#df-50214220-6497-43f0-8d61-8a161c0fa917');\n",
              "        const dataTable =\n",
              "          await google.colab.kernel.invokeFunction('convertToInteractive',\n",
              "                                                    [key], {});\n",
              "        if (!dataTable) return;\n",
              "\n",
              "        const docLinkHtml = 'Like what you see? Visit the ' +\n",
              "          '<a target=\"_blank\" href=https://colab.research.google.com/notebooks/data_table.ipynb>data table notebook</a>'\n",
              "          + ' to learn more about interactive tables.';\n",
              "        element.innerHTML = '';\n",
              "        dataTable['output_type'] = 'display_data';\n",
              "        await google.colab.output.renderOutput(dataTable, element);\n",
              "        const docLink = document.createElement('div');\n",
              "        docLink.innerHTML = docLinkHtml;\n",
              "        element.appendChild(docLink);\n",
              "      }\n",
              "    </script>\n",
              "  </div>\n",
              "\n",
              "\n",
              "    <div id=\"df-fdf4776e-7c93-4b58-9ea9-747954d686f2\">\n",
              "      <button class=\"colab-df-quickchart\" onclick=\"quickchart('df-fdf4776e-7c93-4b58-9ea9-747954d686f2')\"\n",
              "                title=\"Suggest charts\"\n",
              "                style=\"display:none;\">\n",
              "\n",
              "<svg xmlns=\"http://www.w3.org/2000/svg\" height=\"24px\"viewBox=\"0 0 24 24\"\n",
              "     width=\"24px\">\n",
              "    <g>\n",
              "        <path d=\"M19 3H5c-1.1 0-2 .9-2 2v14c0 1.1.9 2 2 2h14c1.1 0 2-.9 2-2V5c0-1.1-.9-2-2-2zM9 17H7v-7h2v7zm4 0h-2V7h2v10zm4 0h-2v-4h2v4z\"/>\n",
              "    </g>\n",
              "</svg>\n",
              "      </button>\n",
              "\n",
              "<style>\n",
              "  .colab-df-quickchart {\n",
              "      --bg-color: #E8F0FE;\n",
              "      --fill-color: #1967D2;\n",
              "      --hover-bg-color: #E2EBFA;\n",
              "      --hover-fill-color: #174EA6;\n",
              "      --disabled-fill-color: #AAA;\n",
              "      --disabled-bg-color: #DDD;\n",
              "  }\n",
              "\n",
              "  [theme=dark] .colab-df-quickchart {\n",
              "      --bg-color: #3B4455;\n",
              "      --fill-color: #D2E3FC;\n",
              "      --hover-bg-color: #434B5C;\n",
              "      --hover-fill-color: #FFFFFF;\n",
              "      --disabled-bg-color: #3B4455;\n",
              "      --disabled-fill-color: #666;\n",
              "  }\n",
              "\n",
              "  .colab-df-quickchart {\n",
              "    background-color: var(--bg-color);\n",
              "    border: none;\n",
              "    border-radius: 50%;\n",
              "    cursor: pointer;\n",
              "    display: none;\n",
              "    fill: var(--fill-color);\n",
              "    height: 32px;\n",
              "    padding: 0;\n",
              "    width: 32px;\n",
              "  }\n",
              "\n",
              "  .colab-df-quickchart:hover {\n",
              "    background-color: var(--hover-bg-color);\n",
              "    box-shadow: 0 1px 2px rgba(60, 64, 67, 0.3), 0 1px 3px 1px rgba(60, 64, 67, 0.15);\n",
              "    fill: var(--button-hover-fill-color);\n",
              "  }\n",
              "\n",
              "  .colab-df-quickchart-complete:disabled,\n",
              "  .colab-df-quickchart-complete:disabled:hover {\n",
              "    background-color: var(--disabled-bg-color);\n",
              "    fill: var(--disabled-fill-color);\n",
              "    box-shadow: none;\n",
              "  }\n",
              "\n",
              "  .colab-df-spinner {\n",
              "    border: 2px solid var(--fill-color);\n",
              "    border-color: transparent;\n",
              "    border-bottom-color: var(--fill-color);\n",
              "    animation:\n",
              "      spin 1s steps(1) infinite;\n",
              "  }\n",
              "\n",
              "  @keyframes spin {\n",
              "    0% {\n",
              "      border-color: transparent;\n",
              "      border-bottom-color: var(--fill-color);\n",
              "      border-left-color: var(--fill-color);\n",
              "    }\n",
              "    20% {\n",
              "      border-color: transparent;\n",
              "      border-left-color: var(--fill-color);\n",
              "      border-top-color: var(--fill-color);\n",
              "    }\n",
              "    30% {\n",
              "      border-color: transparent;\n",
              "      border-left-color: var(--fill-color);\n",
              "      border-top-color: var(--fill-color);\n",
              "      border-right-color: var(--fill-color);\n",
              "    }\n",
              "    40% {\n",
              "      border-color: transparent;\n",
              "      border-right-color: var(--fill-color);\n",
              "      border-top-color: var(--fill-color);\n",
              "    }\n",
              "    60% {\n",
              "      border-color: transparent;\n",
              "      border-right-color: var(--fill-color);\n",
              "    }\n",
              "    80% {\n",
              "      border-color: transparent;\n",
              "      border-right-color: var(--fill-color);\n",
              "      border-bottom-color: var(--fill-color);\n",
              "    }\n",
              "    90% {\n",
              "      border-color: transparent;\n",
              "      border-bottom-color: var(--fill-color);\n",
              "    }\n",
              "  }\n",
              "</style>\n",
              "\n",
              "      <script>\n",
              "        async function quickchart(key) {\n",
              "          const quickchartButtonEl =\n",
              "            document.querySelector('#' + key + ' button');\n",
              "          quickchartButtonEl.disabled = true;  // To prevent multiple clicks.\n",
              "          quickchartButtonEl.classList.add('colab-df-spinner');\n",
              "          try {\n",
              "            const charts = await google.colab.kernel.invokeFunction(\n",
              "                'suggestCharts', [key], {});\n",
              "          } catch (error) {\n",
              "            console.error('Error during call to suggestCharts:', error);\n",
              "          }\n",
              "          quickchartButtonEl.classList.remove('colab-df-spinner');\n",
              "          quickchartButtonEl.classList.add('colab-df-quickchart-complete');\n",
              "        }\n",
              "        (() => {\n",
              "          let quickchartButtonEl =\n",
              "            document.querySelector('#df-fdf4776e-7c93-4b58-9ea9-747954d686f2 button');\n",
              "          quickchartButtonEl.style.display =\n",
              "            google.colab.kernel.accessAllowed ? 'block' : 'none';\n",
              "        })();\n",
              "      </script>\n",
              "    </div>\n",
              "\n",
              "    </div>\n",
              "  </div>\n"
            ],
            "application/vnd.google.colaboratory.intrinsic+json": {
              "type": "dataframe"
            }
          },
          "metadata": {},
          "execution_count": 22
        }
      ]
    },
    {
      "cell_type": "markdown",
      "source": [
        "Limpieza de columnas categóricas"
      ],
      "metadata": {
        "id": "lWMyE3-C_XQn"
      }
    },
    {
      "cell_type": "code",
      "source": [
        "# Revisamos los valores únicos antes de mapear\n",
        "print(\"Gender:\", df['gender'].unique())\n",
        "print(\"Oral:\", df['oral'].unique())\n",
        "print(\"Tartar:\", df['tartar'].unique())\n",
        "\n",
        "# Limpiamos texto y convertimos a binario\n",
        "df['gender'] = df['gender'].astype(str).str.strip().str.upper().map({'M': 0, 'F': 1})\n",
        "df['oral'] = df['oral'].astype(str).str.strip().str.upper().map({'Y': 1, 'N': 0})\n",
        "df['tartar'] = df['tartar'].astype(str).str.strip().str.upper().map({'Y': 1, 'N': 0})\n"
      ],
      "metadata": {
        "colab": {
          "base_uri": "https://localhost:8080/"
        },
        "id": "1dMa2KwQ-_w7",
        "outputId": "061e1a73-ecf6-48bb-c11b-3d2b820f5fe0"
      },
      "execution_count": 23,
      "outputs": [
        {
          "output_type": "stream",
          "name": "stdout",
          "text": [
            "Gender: ['F' 'M']\n",
            "Oral: ['Y']\n",
            "Tartar: ['Y' 'N']\n"
          ]
        }
      ]
    },
    {
      "cell_type": "markdown",
      "source": [
        "Eliminamos columnas si están rotas o vacías"
      ],
      "metadata": {
        "id": "AiNkCG1j_x-_"
      }
    },
    {
      "cell_type": "code",
      "source": [
        "# Mostramos información general del dataset: filas, columnas, tipos de datos\n",
        "df.info()\n",
        "\n",
        "# Verificamos si hay valores faltantes\n",
        "print(\"\\nValores faltantes por columna:\")\n",
        "print(df.isnull().sum().sort_values(ascending=False))\n",
        "\n",
        "# Mostramos estadísticas básicas para variables numéricas\n",
        "print(\"\\nResumen estadístico de columnas numéricas:\")\n",
        "print(df.describe())\n",
        "\n",
        "# Limpiamos y estandarizamos valores categóricos en texto\n",
        "df['gender'] = df['gender'].astype(str).str.strip().str.upper()\n",
        "df['oral'] = df['oral'].astype(str).str.strip().str.upper()\n",
        "df['tartar'] = df['tartar'].astype(str).str.strip().str.upper()\n",
        "\n",
        "# Aplicamos mapeo binario donde corresponde\n",
        "df['tartar'] = df['tartar'].map({'Y': 1, 'N': 0})\n",
        "\n",
        "# Eliminamos columnas que no aportan valor (según análisis previo)\n",
        "df = df.drop(columns=['gender', 'oral'], errors='ignore')\n",
        "\n"
      ],
      "metadata": {
        "id": "u1_4QzDf39r2",
        "colab": {
          "base_uri": "https://localhost:8080/"
        },
        "outputId": "8ca9f27c-7c75-4b65-c9e9-125787b20673"
      },
      "execution_count": 43,
      "outputs": [
        {
          "output_type": "stream",
          "name": "stdout",
          "text": [
            "<class 'pandas.core.frame.DataFrame'>\n",
            "RangeIndex: 50000 entries, 0 to 49999\n",
            "Data columns (total 28 columns):\n",
            " #   Column               Non-Null Count  Dtype  \n",
            "---  ------               --------------  -----  \n",
            " 0   ID                   50000 non-null  int64  \n",
            " 1   gender               50000 non-null  int64  \n",
            " 2   age                  50000 non-null  int64  \n",
            " 3   height(cm)           50000 non-null  int64  \n",
            " 4   weight(kg)           50000 non-null  int64  \n",
            " 5   waist(cm)            50000 non-null  float64\n",
            " 6   eyesight(left)       50000 non-null  float64\n",
            " 7   eyesight(right)      50000 non-null  float64\n",
            " 8   hearing(left)        50000 non-null  float64\n",
            " 9   hearing(right)       50000 non-null  float64\n",
            " 10  systolic             50000 non-null  float64\n",
            " 11  relaxation           50000 non-null  float64\n",
            " 12  fasting blood sugar  50000 non-null  float64\n",
            " 13  Cholesterol          50000 non-null  float64\n",
            " 14  triglyceride         50000 non-null  float64\n",
            " 15  HDL                  50000 non-null  float64\n",
            " 16  LDL                  50000 non-null  float64\n",
            " 17  hemoglobin           50000 non-null  float64\n",
            " 18  Urine protein        50000 non-null  float64\n",
            " 19  serum creatinine     50000 non-null  float64\n",
            " 20  AST                  50000 non-null  float64\n",
            " 21  ALT                  50000 non-null  float64\n",
            " 22  Gtp                  50000 non-null  float64\n",
            " 23  oral                 50000 non-null  object \n",
            " 24  dental caries        50000 non-null  int64  \n",
            " 25  tartar               50000 non-null  object \n",
            " 26  Smoking              50000 non-null  int64  \n",
            " 27  gender_label         50000 non-null  object \n",
            "dtypes: float64(18), int64(7), object(3)\n",
            "memory usage: 10.7+ MB\n",
            "\n",
            "Valores faltantes por columna:\n",
            "ID                     0\n",
            "gender                 0\n",
            "age                    0\n",
            "height(cm)             0\n",
            "weight(kg)             0\n",
            "waist(cm)              0\n",
            "eyesight(left)         0\n",
            "eyesight(right)        0\n",
            "hearing(left)          0\n",
            "hearing(right)         0\n",
            "systolic               0\n",
            "relaxation             0\n",
            "fasting blood sugar    0\n",
            "Cholesterol            0\n",
            "triglyceride           0\n",
            "HDL                    0\n",
            "LDL                    0\n",
            "hemoglobin             0\n",
            "Urine protein          0\n",
            "serum creatinine       0\n",
            "AST                    0\n",
            "ALT                    0\n",
            "Gtp                    0\n",
            "oral                   0\n",
            "dental caries          0\n",
            "tartar                 0\n",
            "Smoking                0\n",
            "gender_label           0\n",
            "dtype: int64\n",
            "\n",
            "Resumen estadístico de columnas numéricas:\n",
            "                 ID        gender           age    height(cm)    weight(kg)  \\\n",
            "count  50000.000000  50000.000000  50000.000000  50000.000000  50000.000000   \n",
            "mean   26284.994580      0.364320     44.189300    164.652000     65.878700   \n",
            "std    16015.070567      0.481244     12.090086      9.208778     12.831355   \n",
            "min        0.000000      0.000000     20.000000    130.000000     30.000000   \n",
            "25%    12499.750000      0.000000     40.000000    160.000000     55.000000   \n",
            "50%    24999.500000      0.000000     40.000000    165.000000     65.000000   \n",
            "75%    40034.250000      1.000000     55.000000    170.000000     75.000000   \n",
            "max    55690.000000      1.000000     85.000000    190.000000    135.000000   \n",
            "\n",
            "          waist(cm)  eyesight(left)  eyesight(right)  hearing(left)  \\\n",
            "count  50000.000000    50000.000000     50000.000000   50000.000000   \n",
            "mean       3.414852        0.028446         0.028304       0.042736   \n",
            "std        0.386765        0.024007         0.024216       0.006588   \n",
            "min        2.125000        0.000694         0.000694       0.041667   \n",
            "25%        3.166667        0.005556         0.005556       0.041667   \n",
            "50%        3.416667        0.041667         0.041667       0.041667   \n",
            "75%        3.666667        0.043056         0.043056       0.041667   \n",
            "max        5.375000        0.381250         0.381250       0.083333   \n",
            "\n",
            "       hearing(right)  ...           HDL           LDL    hemoglobin  \\\n",
            "count    50000.000000  ...  50000.000000  50000.000000  50000.000000   \n",
            "mean         0.042758  ...      2.387543      4.790698      0.593785   \n",
            "std          0.006655  ...      0.615559      1.709238      0.065870   \n",
            "min          0.041667  ...      0.166667      0.041667      0.172917   \n",
            "25%          0.041667  ...      1.958333      3.833333      0.545833   \n",
            "50%          0.041667  ...      2.291667      4.708333      0.588889   \n",
            "75%          0.041667  ...      2.750000      5.666667      0.630556   \n",
            "max          0.083333  ...     25.750000     77.500000      0.875694   \n",
            "\n",
            "       Urine protein  serum creatinine           AST           ALT  \\\n",
            "count   50000.000000      50000.000000  50000.000000  50000.000000   \n",
            "mean        0.045290          0.018821      1.093193      1.129345   \n",
            "std         0.016872          0.018432      0.827986      1.327431   \n",
            "min         0.041667          0.000694      0.250000      0.041667   \n",
            "25%         0.041667          0.005556      0.791667      0.625000   \n",
            "50%         0.041667          0.006250      0.958333      0.875000   \n",
            "75%         0.041667          0.041667      1.208333      1.291667   \n",
            "max         0.250000          0.462500     54.625000    121.416667   \n",
            "\n",
            "                Gtp  dental caries       Smoking  \n",
            "count  50000.000000   50000.000000  50000.000000  \n",
            "mean       1.668142       0.213120      0.366580  \n",
            "std        2.110347       0.409516      0.481875  \n",
            "min        0.041667       0.000000      0.000000  \n",
            "25%        0.708333       0.000000      0.000000  \n",
            "50%        1.041667       0.000000      0.000000  \n",
            "75%        1.833333       0.000000      1.000000  \n",
            "max       41.625000       1.000000      1.000000  \n",
            "\n",
            "[8 rows x 25 columns]\n"
          ]
        }
      ]
    },
    {
      "cell_type": "markdown",
      "source": [
        "Eliminamos columnas si están rotas o vacías"
      ],
      "metadata": {
        "id": "wO8ZhkXN6IK0"
      }
    },
    {
      "cell_type": "code",
      "source": [
        "# Si hay NaNs después del mapeo, mejor eliminarlas para no ensuciar el modelo\n",
        "df = df.drop(columns=['oral', 'tartar'], errors='ignore')\n"
      ],
      "metadata": {
        "id": "jHy8UeqDAJpQ"
      },
      "execution_count": 26,
      "outputs": []
    },
    {
      "cell_type": "markdown",
      "source": [
        " Visualización Exploratoria (EDA)"
      ],
      "metadata": {
        "id": "91I1vKHLBqw-"
      }
    },
    {
      "cell_type": "markdown",
      "source": [
        "Histograma Edades"
      ],
      "metadata": {
        "id": "LFqMl7dJFTG4"
      }
    },
    {
      "cell_type": "code",
      "source": [
        "import seaborn as sns\n",
        "import matplotlib.pyplot as plt\n",
        "\n",
        "plt.figure(figsize=(10, 6))\n",
        "sns.histplot(df['age'], bins=20, kde=True, color='skyblue')\n",
        "plt.title(\"Distribución de edades en la población\")\n",
        "plt.xlabel(\"Edad\")\n",
        "plt.ylabel(\"Cantidad de personas\")\n",
        "plt.grid(True, linestyle='--', alpha=0.5)\n",
        "plt.tight_layout()\n",
        "plt.show()\n"
      ],
      "metadata": {
        "colab": {
          "base_uri": "https://localhost:8080/",
          "height": 607
        },
        "id": "28xHyGi_BsVu",
        "outputId": "cb8227fb-a3d5-45de-835d-3424ac14aa66"
      },
      "execution_count": 27,
      "outputs": [
        {
          "output_type": "display_data",
          "data": {
            "text/plain": [
              "<Figure size 1000x600 with 1 Axes>"
            ],
            "image/png": "[encoded data removed]"
          },
          "metadata": {}
        }
      ]
    },
    {
      "cell_type": "markdown",
      "source": [
        "Boxplot colesterol por genero"
      ],
      "metadata": {
        "id": "ilvLUVk9Fwrt"
      }
    },
    {
      "cell_type": "code",
      "source": [
        "df = pd.read_excel(\"smoking prediction.xlsx\")  # NO el de entrega\n"
      ],
      "metadata": {
        "id": "oUKwmrxLUUCs"
      },
      "execution_count": 29,
      "outputs": []
    },
    {
      "cell_type": "code",
      "source": [
        "print(df.columns)\n"
      ],
      "metadata": {
        "colab": {
          "base_uri": "https://localhost:8080/"
        },
        "id": "5PjZuoy3Uifj",
        "outputId": "1cc61314-44d2-4c70-8120-07d1d886c403"
      },
      "execution_count": 30,
      "outputs": [
        {
          "output_type": "stream",
          "name": "stdout",
          "text": [
            "Index(['ID', 'gender', 'age', 'height(cm)', 'weight(kg)', 'waist(cm)',\n",
            "       'eyesight(left)', 'eyesight(right)', 'hearing(left)', 'hearing(right)',\n",
            "       'systolic', 'relaxation', 'fasting blood sugar', 'Cholesterol',\n",
            "       'triglyceride', 'HDL', 'LDL', 'hemoglobin', 'Urine protein',\n",
            "       'serum creatinine', 'AST', 'ALT', 'Gtp', 'oral', 'dental caries',\n",
            "       'tartar', 'smoking'],\n",
            "      dtype='object')\n"
          ]
        }
      ]
    },
    {
      "cell_type": "code",
      "source": [
        "df['gender'] = df['gender'].map({'M': 0, 'F': 1})\n",
        "df['gender_label'] = df['gender'].map({0: 'M', 1: 'F'})\n"
      ],
      "metadata": {
        "id": "bMkBvSXgFJok"
      },
      "execution_count": 31,
      "outputs": []
    },
    {
      "cell_type": "code",
      "source": [
        "print(\"Valores únicos en gender:\", df['gender'].unique())\n",
        "print(\"Valores únicos en gender_label:\", df['gender_label'].unique())\n"
      ],
      "metadata": {
        "colab": {
          "base_uri": "https://localhost:8080/"
        },
        "id": "Em9YLeCzUxXV",
        "outputId": "6b0127e8-b424-4224-e178-c935dd11675d"
      },
      "execution_count": 32,
      "outputs": [
        {
          "output_type": "stream",
          "name": "stdout",
          "text": [
            "Valores únicos en gender: [1 0]\n",
            "Valores únicos en gender_label: ['F' 'M']\n"
          ]
        }
      ]
    },
    {
      "cell_type": "code",
      "source": [
        "import matplotlib.pyplot as plt\n",
        "import seaborn as sns\n",
        "\n",
        "plt.figure(figsize=(8, 6))\n",
        "sns.boxplot(data=df, x='gender_label', y='Cholesterol')  # sin 'palette' ni 'hue'\n",
        "plt.title(\"Colesterol por género (M / F)\", fontsize=14)\n",
        "plt.xlabel(\"Género\")\n",
        "plt.ylabel(\"Nivel de colesterol\")\n",
        "plt.grid(True, axis='y', linestyle='--', alpha=0.5)\n",
        "plt.tight_layout()\n",
        "plt.show()\n"
      ],
      "metadata": {
        "colab": {
          "base_uri": "https://localhost:8080/",
          "height": 607
        },
        "id": "PpADQhU0VfWX",
        "outputId": "348756ca-eecd-4458-bc8e-477fa67cdfe0"
      },
      "execution_count": 33,
      "outputs": [
        {
          "output_type": "display_data",
          "data": {
            "text/plain": [
              "<Figure size 800x600 with 1 Axes>"
            ],
            "image/png": "[encoded data removed]"
          },
          "metadata": {}
        }
      ]
    },
    {
      "cell_type": "code",
      "source": [
        "sns.boxplot(data=df, x='Smoking', y='Cholesterol')\n"
      ],
      "metadata": {
        "colab": {
          "base_uri": "https://localhost:8080/",
          "height": 468
        },
        "id": "1QKYg75zYMx4",
        "outputId": "a8c24883-bbe7-40bc-999c-844d1483154d"
      },
      "execution_count": 41,
      "outputs": [
        {
          "output_type": "execute_result",
          "data": {
            "text/plain": [
              "<Axes: xlabel='Smoking', ylabel='Cholesterol'>"
            ]
          },
          "metadata": {},
          "execution_count": 41
        },
        {
          "output_type": "display_data",
          "data": {
            "text/plain": [
              "<Figure size 640x480 with 1 Axes>"
            ],
            "image/png": "[encoded data removed]"
          },
          "metadata": {}
        }
      ]
    },
    {
      "cell_type": "markdown",
      "source": [],
      "metadata": {
        "id": "qpJc-XLtWC0w"
      }
    },
    {
      "cell_type": "code",
      "source": [
        "print(df.columns)\n"
      ],
      "metadata": {
        "colab": {
          "base_uri": "https://localhost:8080/"
        },
        "id": "s-CRSrfAWahu",
        "outputId": "14f17054-a755-4339-ef49-bacb765aaa7f"
      },
      "execution_count": 35,
      "outputs": [
        {
          "output_type": "stream",
          "name": "stdout",
          "text": [
            "Index(['ID', 'gender', 'age', 'height(cm)', 'weight(kg)', 'waist(cm)',\n",
            "       'eyesight(left)', 'eyesight(right)', 'hearing(left)', 'hearing(right)',\n",
            "       'systolic', 'relaxation', 'fasting blood sugar', 'Cholesterol',\n",
            "       'triglyceride', 'HDL', 'LDL', 'hemoglobin', 'Urine protein',\n",
            "       'serum creatinine', 'AST', 'ALT', 'Gtp', 'oral', 'dental caries',\n",
            "       'tartar', 'smoking', 'gender_label'],\n",
            "      dtype='object')\n"
          ]
        }
      ]
    },
    {
      "cell_type": "code",
      "source": [
        "df.rename(columns={'smoking': 'Smoking'}, inplace=True)\n"
      ],
      "metadata": {
        "id": "_0HMDnqpWtf9"
      },
      "execution_count": 36,
      "outputs": []
    },
    {
      "cell_type": "markdown",
      "source": [
        "Colesterol vs Smoking"
      ],
      "metadata": {
        "id": "uR44wFH4W7ba"
      }
    },
    {
      "cell_type": "code",
      "source": [
        "plt.figure(figsize=(8, 6))\n",
        "sns.boxplot(data=df, x='Smoking', y='Cholesterol')\n",
        "plt.title(\"Colesterol según si la persona fuma (0 = No, 1 = Sí)\")\n",
        "plt.xlabel(\"¿Fuma?\")\n",
        "plt.ylabel(\"Nivel de colesterol\")\n",
        "plt.grid(True, axis='y', linestyle='--', alpha=0.5)\n",
        "plt.tight_layout()\n",
        "plt.show()\n"
      ],
      "metadata": {
        "colab": {
          "base_uri": "https://localhost:8080/",
          "height": 607
        },
        "id": "g21l7wEqWwQz",
        "outputId": "ae8e8329-a51d-4cb7-d162-728ccb8d3722"
      },
      "execution_count": 37,
      "outputs": [
        {
          "output_type": "display_data",
          "data": {
            "text/plain": [
              "<Figure size 800x600 with 1 Axes>"
            ],
            "image/png": "[encoded data removed]"
          },
          "metadata": {}
        }
      ]
    },
    {
      "cell_type": "markdown",
      "source": [
        "Presión sistólica vs Smoking"
      ],
      "metadata": {
        "id": "4XcbY97NW_E2"
      }
    },
    {
      "cell_type": "code",
      "source": [
        "plt.figure(figsize=(8, 6))\n",
        "sns.boxplot(data=df, x='Smoking', y='systolic')\n",
        "plt.title(\"Presión sistólica según si la persona fuma\")\n",
        "plt.xlabel(\"¿Fuma?\")\n",
        "plt.ylabel(\"Presión sistólica\")\n",
        "plt.grid(True, axis='y', linestyle='--', alpha=0.5)\n",
        "plt.tight_layout()\n",
        "plt.show()\n"
      ],
      "metadata": {
        "colab": {
          "base_uri": "https://localhost:8080/",
          "height": 607
        },
        "id": "eQiGbqyxW-fB",
        "outputId": "cf3a0ac3-6ed2-4248-b1f8-ac7e8ea6a55c"
      },
      "execution_count": 38,
      "outputs": [
        {
          "output_type": "display_data",
          "data": {
            "text/plain": [
              "<Figure size 800x600 with 1 Axes>"
            ],
            "image/png": "[encoded data removed]"
          },
          "metadata": {}
        }
      ]
    },
    {
      "cell_type": "markdown",
      "source": [
        "Triglicéridos vs Smoking"
      ],
      "metadata": {
        "id": "6mdHhGDfXHkL"
      }
    },
    {
      "cell_type": "code",
      "source": [
        "plt.figure(figsize=(8, 6))\n",
        "sns.boxplot(data=df, x='Smoking', y='triglyceride')\n",
        "plt.title(\"Triglicéridos según si la persona fuma\")\n",
        "plt.xlabel(\"¿Fuma?\")\n",
        "plt.ylabel(\"Nivel de triglicéridos\")\n",
        "plt.grid(True, axis='y', linestyle='--', alpha=0.5)\n",
        "plt.tight_layout()\n",
        "plt.show()\n"
      ],
      "metadata": {
        "colab": {
          "base_uri": "https://localhost:8080/",
          "height": 607
        },
        "id": "8CYtrX91XKXO",
        "outputId": "6c143906-9905-4bd6-a8ed-f14b9a984b53"
      },
      "execution_count": 39,
      "outputs": [
        {
          "output_type": "display_data",
          "data": {
            "text/plain": [
              "<Figure size 800x600 with 1 Axes>"
            ],
            "image/png": "[encoded data removed]"
          },
          "metadata": {}
        }
      ]
    },
    {
      "cell_type": "markdown",
      "source": [
        "GTP vs Smoking"
      ],
      "metadata": {
        "id": "ZYi4l02EXSQH"
      }
    },
    {
      "cell_type": "code",
      "source": [
        "plt.figure(figsize=(8, 6))\n",
        "sns.boxplot(data=df, x='Smoking', y='Gtp')\n",
        "plt.title(\"Enzima GTP según si la persona fuma\")\n",
        "plt.xlabel(\"¿Fuma?\")\n",
        "plt.ylabel(\"Nivel de GTP\")\n",
        "plt.grid(True, axis='y', linestyle='--', alpha=0.5)\n",
        "plt.tight_layout()\n",
        "plt.show()\n"
      ],
      "metadata": {
        "colab": {
          "base_uri": "https://localhost:8080/",
          "height": 607
        },
        "id": "KBudrOIMXS-N",
        "outputId": "a314da4b-8db1-4cf5-a1bc-6d41a1768c13"
      },
      "execution_count": 40,
      "outputs": [
        {
          "output_type": "display_data",
          "data": {
            "text/plain": [
              "<Figure size 800x600 with 1 Axes>"
            ],
            "image/png": "[encoded data removed]"
          },
          "metadata": {}
        }
      ]
    },
    {
      "cell_type": "code",
      "source": [
        "plt.figure(figsize=(8, 6))\n",
        "sns.boxplot(data=df, x='Smoking', y='age')\n",
        "plt.title(\"Edad según si la persona fuma (0 = No, 1 = Sí)\")\n",
        "plt.xlabel(\"¿Fuma?\")\n",
        "plt.ylabel(\"Edad\")\n",
        "plt.grid(True, axis='y', linestyle='--', alpha=0.5)\n",
        "plt.tight_layout()\n",
        "plt.show()\n"
      ],
      "metadata": {
        "colab": {
          "base_uri": "https://localhost:8080/",
          "height": 607
        },
        "id": "f2TT4IJ6YZgS",
        "outputId": "e894f995-9728-4de9-ab06-f5380e001bfb"
      },
      "execution_count": 42,
      "outputs": [
        {
          "output_type": "display_data",
          "data": {
            "text/plain": [
              "<Figure size 800x600 with 1 Axes>"
            ],
            "image/png": "[encoded data removed]"
          },
          "metadata": {}
        }
      ]
    },
    {
      "cell_type": "markdown",
      "source": [
        "Boxplot: Colesterol por género\n",
        "Los niveles de colesterol son similares entre hombres y mujeres. Aunque hay valores extremos en ambos grupos, el género no parece ser un factor determinante para predecir si una persona fuma. Esta variable no aporta demasiada separación por sí sola.\n",
        "\n",
        "Boxplot: Colesterol según si fuman\n",
        "Los fumadores muestran una leve tendencia a tener el colesterol más alto y más dispersión en los valores. Esto indica que el colesterol podría tener una relación con el hábito de fumar y puede aportar información útil al modelo.\n",
        "\n",
        "Boxplot: Triglicéridos y si la persona fuma\n",
        "Se observa mayor variabilidad en los triglicéridos de los fumadores, con casos más extremos que entre los no fumadores. Esto sugiere que los triglicéridos también están asociados al tabaquismo y podrían ser una variable relevante en la predicción.\n",
        "\n",
        "Conclusión general\n",
        "Los boxplots permitieron identificar variables que presentan diferencias entre fumadores y no fumadores. Esta exploración ayuda a definir cuáles pueden ser útiles para el modelo. Sin este análisis, se perdería la oportunidad de entender mejor la información y tomar decisiones fundamentadas para la selección de variables."
      ],
      "metadata": {
        "id": "eySbXx_yarHs"
      }
    },
    {
      "cell_type": "code",
      "source": [
        "X = df.drop(columns=['Smoking', 'gender_label'])  # Solo eliminamos lo que existe\n",
        "y = df['Smoking']\n"
      ],
      "metadata": {
        "id": "9OXeu5vvqeeA"
      },
      "execution_count": 52,
      "outputs": []
    },
    {
      "cell_type": "code",
      "source": [
        "print(df.columns)\n",
        "\n"
      ],
      "metadata": {
        "colab": {
          "base_uri": "https://localhost:8080/"
        },
        "id": "LsWpmjdvqwe9",
        "outputId": "672a343c-7263-4e26-886c-e1a0dd3e3953"
      },
      "execution_count": 56,
      "outputs": [
        {
          "output_type": "stream",
          "name": "stdout",
          "text": [
            "Index(['age', 'height(cm)', 'weight(kg)', 'waist(cm)', 'eyesight(left)',\n",
            "       'eyesight(right)', 'hearing(left)', 'hearing(right)', 'systolic',\n",
            "       'relaxation', 'fasting blood sugar', 'Cholesterol', 'triglyceride',\n",
            "       'HDL', 'LDL', 'hemoglobin', 'Urine protein', 'serum creatinine', 'AST',\n",
            "       'ALT', 'Gtp', 'dental caries', 'Smoking', 'gender_label'],\n",
            "      dtype='object')\n"
          ]
        }
      ]
    },
    {
      "cell_type": "code",
      "source": [
        "# Eliminamos columnas que no son útiles para el modelo\n",
        "X = df.drop(columns=['Smoking', 'gender_label'])  # Nos quedamos solo con las variables numéricas\n",
        "y = df['Smoking']  # Variable objetivo: si fuma o no\n"
      ],
      "metadata": {
        "id": "pSpmkbU1rFZ0"
      },
      "execution_count": 57,
      "outputs": []
    },
    {
      "cell_type": "code",
      "source": [
        "print(\"¿Hay NaNs en X?\", X.isnull().sum().sum())\n",
        "print(\"¿Hay NaNs en y?\", y.isnull().sum())\n",
        "print(\"Tipos de datos en X:\\n\", X.dtypes.value_counts())\n"
      ],
      "metadata": {
        "colab": {
          "base_uri": "https://localhost:8080/"
        },
        "id": "l70SfO6WrIvr",
        "outputId": "3c197e5e-2800-489e-8c45-11032bd493f9"
      },
      "execution_count": 58,
      "outputs": [
        {
          "output_type": "stream",
          "name": "stdout",
          "text": [
            "¿Hay NaNs en X? 0\n",
            "¿Hay NaNs en y? 0\n",
            "Tipos de datos en X:\n",
            " float64    18\n",
            "int64       4\n",
            "Name: count, dtype: int64\n"
          ]
        }
      ]
    },
    {
      "cell_type": "markdown",
      "source": [
        "Entrenamiento del modelo"
      ],
      "metadata": {
        "id": "jkO-kqPcoqlY"
      }
    },
    {
      "cell_type": "code",
      "source": [
        "from sklearn.model_selection import train_test_split\n",
        "from sklearn.ensemble import RandomForestClassifier\n",
        "from sklearn.metrics import classification_report, confusion_matrix, accuracy_score\n",
        "import seaborn as sns\n",
        "import matplotlib.pyplot as plt\n",
        "\n",
        "# Dividimos en entrenamiento (70%) y prueba (30%)\n",
        "X_train, X_test, y_train, y_test = train_test_split(X, y, test_size=0.3, random_state=42)\n",
        "\n",
        "# Entrenamos el modelo Random Forest\n",
        "rf = RandomForestClassifier(n_estimators=100, random_state=42)\n",
        "rf.fit(X_train, y_train)\n",
        "\n",
        "# Predecimos\n",
        "y_pred = rf.predict(X_test)\n",
        "\n",
        "# Evaluamos\n",
        "print(\"Accuracy:\", accuracy_score(y_test, y_pred))\n",
        "print(\"\\nReporte de clasificación:\\n\", classification_report(y_test, y_pred))\n",
        "\n",
        "# Matriz de confusión\n",
        "plt.figure(figsize=(6, 4))\n",
        "sns.heatmap(confusion_matrix(y_test, y_pred), annot=True, fmt='d', cmap='Blues')\n",
        "plt.title(\"Matriz de Confusión – Random Forest\")\n",
        "plt.xlabel(\"Predicción\")\n",
        "plt.ylabel(\"Valor real\")\n",
        "plt.tight_layout()\n",
        "plt.show()\n"
      ],
      "metadata": {
        "colab": {
          "base_uri": "https://localhost:8080/",
          "height": 633
        },
        "id": "hd0rNhbzrgG-",
        "outputId": "988b4924-bd17-449e-e048-461e72c22747"
      },
      "execution_count": 59,
      "outputs": [
        {
          "output_type": "stream",
          "name": "stdout",
          "text": [
            "Accuracy: 0.7786666666666666\n",
            "\n",
            "Reporte de clasificación:\n",
            "               precision    recall  f1-score   support\n",
            "\n",
            "           0       0.82      0.83      0.83      9464\n",
            "           1       0.71      0.68      0.70      5536\n",
            "\n",
            "    accuracy                           0.78     15000\n",
            "   macro avg       0.76      0.76      0.76     15000\n",
            "weighted avg       0.78      0.78      0.78     15000\n",
            "\n"
          ]
        },
        {
          "output_type": "display_data",
          "data": {
            "text/plain": [
              "<Figure size 600x400 with 2 Axes>"
            ],
            "image/png": "[encoded data removed]"
          },
          "metadata": {}
        }
      ]
    },
    {
      "cell_type": "code",
      "source": [
        "df_entrega = pd.read_excel(\"smoking prediction entrega.xlsx\")\n"
      ],
      "metadata": {
        "id": "IIzBnQU_uANK"
      },
      "execution_count": 60,
      "outputs": []
    },
    {
      "cell_type": "code",
      "source": [
        "# Convertimos a mayúsculas y mapeamos como antes\n",
        "df_entrega['gender'] = df_entrega['gender'].astype(str).str.strip().str.upper().map({'M': 0, 'F': 1})\n",
        "df_entrega['oral'] = df_entrega['oral'].astype(str).str.strip().str.upper().map({'Y': 1, 'N': 0})\n",
        "df_entrega['tartar'] = df_entrega['tartar'].astype(str).str.strip().str.upper().map({'Y': 1, 'N': 0})\n",
        "\n",
        "# Creamos 'gender_label' como antes (si fue usada en alguna visualización)\n",
        "df_entrega['gender_label'] = df_entrega['gender'].map({0: 'M', 1: 'F'})\n",
        "\n",
        "# Eliminamos columnas no predictivas (oral, tartar, gender_label)\n",
        "df_entrega = df_entrega.drop(columns=['oral', 'tartar', 'gender_label'], errors='ignore')\n"
      ],
      "metadata": {
        "id": "pepv6ig1uGv3"
      },
      "execution_count": 61,
      "outputs": []
    },
    {
      "cell_type": "code",
      "source": [
        "# Revisamos las columnas disponibles\n",
        "print(df_entrega.columns)\n",
        "\n",
        "# Definimos X_entrega\n",
        "X_entrega = df_entrega.drop(columns=['ID'], errors='ignore')  # ID no se usa para predecir\n"
      ],
      "metadata": {
        "colab": {
          "base_uri": "https://localhost:8080/"
        },
        "id": "mMz9Lu1HuJrJ",
        "outputId": "1b52acd1-5d46-4054-e88f-5d0cace62a0f"
      },
      "execution_count": 62,
      "outputs": [
        {
          "output_type": "stream",
          "name": "stdout",
          "text": [
            "Index(['ID', 'gender', 'age', 'height(cm)', 'weight(kg)', 'waist(cm)',\n",
            "       'eyesight(left)', 'eyesight(right)', 'hearing(left)', 'hearing(right)',\n",
            "       'systolic', 'relaxation', 'fasting blood sugar', 'Cholesterol',\n",
            "       'triglyceride', 'HDL', 'LDL', 'hemoglobin', 'Urine protein',\n",
            "       'serum creatinine', 'AST', 'ALT', 'Gtp', 'dental caries'],\n",
            "      dtype='object')\n"
          ]
        }
      ]
    },
    {
      "cell_type": "code",
      "source": [
        "# Primero revisamos qué columnas usó el modelo en el entrenamiento\n",
        "print(\"Columnas de entrenamiento:\", X.columns.tolist())\n",
        "print(\"Columnas actuales de X_entrega:\", X_entrega.columns.tolist())\n",
        "\n",
        "# Forzamos que X_entrega tenga las mismas columnas que X (las del entrenamiento)\n",
        "X_entrega = df_entrega[X.columns]\n"
      ],
      "metadata": {
        "colab": {
          "base_uri": "https://localhost:8080/"
        },
        "id": "T0t4EWVmujY1",
        "outputId": "1fa52397-8254-4d97-fbbc-8f58e3d3228d"
      },
      "execution_count": 64,
      "outputs": [
        {
          "output_type": "stream",
          "name": "stdout",
          "text": [
            "Columnas de entrenamiento: ['age', 'height(cm)', 'weight(kg)', 'waist(cm)', 'eyesight(left)', 'eyesight(right)', 'hearing(left)', 'hearing(right)', 'systolic', 'relaxation', 'fasting blood sugar', 'Cholesterol', 'triglyceride', 'HDL', 'LDL', 'hemoglobin', 'Urine protein', 'serum creatinine', 'AST', 'ALT', 'Gtp', 'dental caries']\n",
            "Columnas actuales de X_entrega: ['gender', 'age', 'height(cm)', 'weight(kg)', 'waist(cm)', 'eyesight(left)', 'eyesight(right)', 'hearing(left)', 'hearing(right)', 'systolic', 'relaxation', 'fasting blood sugar', 'Cholesterol', 'triglyceride', 'HDL', 'LDL', 'hemoglobin', 'Urine protein', 'serum creatinine', 'AST', 'ALT', 'Gtp', 'dental caries']\n"
          ]
        }
      ]
    },
    {
      "cell_type": "code",
      "source": [
        "# Ahora sí, hacemos la predicción sin error\n",
        "df_entrega['Smoking'] = rf.predict(X_entrega)\n"
      ],
      "metadata": {
        "id": "9neB_DXtumRZ"
      },
      "execution_count": 65,
      "outputs": []
    },
    {
      "cell_type": "code",
      "source": [
        "df_entrega['Smoking'] = rf.predict(X_entrega)\n"
      ],
      "metadata": {
        "id": "JqNr9-j0uT8G"
      },
      "execution_count": 66,
      "outputs": []
    },
    {
      "cell_type": "code",
      "source": [
        "df_entrega.to_excel(\"predicciones_entrega_final.xlsx\", index=False)\n"
      ],
      "metadata": {
        "id": "ybAdBZljvC_q"
      },
      "execution_count": 67,
      "outputs": []
    },
    {
      "cell_type": "code",
      "source": [
        "df_entrega[['ID', 'Smoking']].head()\n"
      ],
      "metadata": {
        "colab": {
          "base_uri": "https://localhost:8080/",
          "height": 206
        },
        "id": "QrqDUr20vHJA",
        "outputId": "0b309b23-9787-48eb-d12c-5f1e88346c91"
      },
      "execution_count": 68,
      "outputs": [
        {
          "output_type": "execute_result",
          "data": {
            "text/plain": [
              "      ID  Smoking\n",
              "0  27358        1\n",
              "1  27364        1\n",
              "2  27368        1\n",
              "3  27378        0\n",
              "4  27381        1"
            ],
            "text/html": [
              "\n",
              "  <div id=\"df-5c1df66d-9ed9-4d2f-9878-3a04905c6c31\" class=\"colab-df-container\">\n",
              "    <div>\n",
              "<style scoped>\n",
              "    .dataframe tbody tr th:only-of-type {\n",
              "        vertical-align: middle;\n",
              "    }\n",
              "\n",
              "    .dataframe tbody tr th {\n",
              "        vertical-align: top;\n",
              "    }\n",
              "\n",
              "    .dataframe thead th {\n",
              "        text-align: right;\n",
              "    }\n",
              "</style>\n",
              "<table border=\"1\" class=\"dataframe\">\n",
              "  <thead>\n",
              "    <tr style=\"text-align: right;\">\n",
              "      <th></th>\n",
              "      <th>ID</th>\n",
              "      <th>Smoking</th>\n",
              "    </tr>\n",
              "  </thead>\n",
              "  <tbody>\n",
              "    <tr>\n",
              "      <th>0</th>\n",
              "      <td>27358</td>\n",
              "      <td>1</td>\n",
              "    </tr>\n",
              "    <tr>\n",
              "      <th>1</th>\n",
              "      <td>27364</td>\n",
              "      <td>1</td>\n",
              "    </tr>\n",
              "    <tr>\n",
              "      <th>2</th>\n",
              "      <td>27368</td>\n",
              "      <td>1</td>\n",
              "    </tr>\n",
              "    <tr>\n",
              "      <th>3</th>\n",
              "      <td>27378</td>\n",
              "      <td>0</td>\n",
              "    </tr>\n",
              "    <tr>\n",
              "      <th>4</th>\n",
              "      <td>27381</td>\n",
              "      <td>1</td>\n",
              "    </tr>\n",
              "  </tbody>\n",
              "</table>\n",
              "</div>\n",
              "    <div class=\"colab-df-buttons\">\n",
              "\n",
              "  <div class=\"colab-df-container\">\n",
              "    <button class=\"colab-df-convert\" onclick=\"convertToInteractive('df-5c1df66d-9ed9-4d2f-9878-3a04905c6c31')\"\n",
              "            title=\"Convert this dataframe to an interactive table.\"\n",
              "            style=\"display:none;\">\n",
              "\n",
              "  <svg xmlns=\"http://www.w3.org/2000/svg\" height=\"24px\" viewBox=\"0 -960 960 960\">\n",
              "    <path d=\"M120-120v-720h720v720H120Zm60-500h600v-160H180v160Zm220 220h160v-160H400v160Zm0 220h160v-160H400v160ZM180-400h160v-160H180v160Zm440 0h160v-160H620v160ZM180-180h160v-160H180v160Zm440 0h160v-160H620v160Z\"/>\n",
              "  </svg>\n",
              "    </button>\n",
              "\n",
              "  <style>\n",
              "    .colab-df-container {\n",
              "      display:flex;\n",
              "      gap: 12px;\n",
              "    }\n",
              "\n",
              "    .colab-df-convert {\n",
              "      background-color: #E8F0FE;\n",
              "      border: none;\n",
              "      border-radius: 50%;\n",
              "      cursor: pointer;\n",
              "      display: none;\n",
              "      fill: #1967D2;\n",
              "      height: 32px;\n",
              "      padding: 0 0 0 0;\n",
              "      width: 32px;\n",
              "    }\n",
              "\n",
              "    .colab-df-convert:hover {\n",
              "      background-color: #E2EBFA;\n",
              "      box-shadow: 0px 1px 2px rgba(60, 64, 67, 0.3), 0px 1px 3px 1px rgba(60, 64, 67, 0.15);\n",
              "      fill: #174EA6;\n",
              "    }\n",
              "\n",
              "    .colab-df-buttons div {\n",
              "      margin-bottom: 4px;\n",
              "    }\n",
              "\n",
              "    [theme=dark] .colab-df-convert {\n",
              "      background-color: #3B4455;\n",
              "      fill: #D2E3FC;\n",
              "    }\n",
              "\n",
              "    [theme=dark] .colab-df-convert:hover {\n",
              "      background-color: #434B5C;\n",
              "      box-shadow: 0px 1px 3px 1px rgba(0, 0, 0, 0.15);\n",
              "      filter: drop-shadow(0px 1px 2px rgba(0, 0, 0, 0.3));\n",
              "      fill: #FFFFFF;\n",
              "    }\n",
              "  </style>\n",
              "\n",
              "    <script>\n",
              "      const buttonEl =\n",
              "        document.querySelector('#df-5c1df66d-9ed9-4d2f-9878-3a04905c6c31 button.colab-df-convert');\n",
              "      buttonEl.style.display =\n",
              "        google.colab.kernel.accessAllowed ? 'block' : 'none';\n",
              "\n",
              "      async function convertToInteractive(key) {\n",
              "        const element = document.querySelector('#df-5c1df66d-9ed9-4d2f-9878-3a04905c6c31');\n",
              "        const dataTable =\n",
              "          await google.colab.kernel.invokeFunction('convertToInteractive',\n",
              "                                                    [key], {});\n",
              "        if (!dataTable) return;\n",
              "\n",
              "        const docLinkHtml = 'Like what you see? Visit the ' +\n",
              "          '<a target=\"_blank\" href=https://colab.research.google.com/notebooks/data_table.ipynb>data table notebook</a>'\n",
              "          + ' to learn more about interactive tables.';\n",
              "        element.innerHTML = '';\n",
              "        dataTable['output_type'] = 'display_data';\n",
              "        await google.colab.output.renderOutput(dataTable, element);\n",
              "        const docLink = document.createElement('div');\n",
              "        docLink.innerHTML = docLinkHtml;\n",
              "        element.appendChild(docLink);\n",
              "      }\n",
              "    </script>\n",
              "  </div>\n",
              "\n",
              "\n",
              "    <div id=\"df-fc3280d4-fe00-405e-ba8d-1843f959352b\">\n",
              "      <button class=\"colab-df-quickchart\" onclick=\"quickchart('df-fc3280d4-fe00-405e-ba8d-1843f959352b')\"\n",
              "                title=\"Suggest charts\"\n",
              "                style=\"display:none;\">\n",
              "\n",
              "<svg xmlns=\"http://www.w3.org/2000/svg\" height=\"24px\"viewBox=\"0 0 24 24\"\n",
              "     width=\"24px\">\n",
              "    <g>\n",
              "        <path d=\"M19 3H5c-1.1 0-2 .9-2 2v14c0 1.1.9 2 2 2h14c1.1 0 2-.9 2-2V5c0-1.1-.9-2-2-2zM9 17H7v-7h2v7zm4 0h-2V7h2v10zm4 0h-2v-4h2v4z\"/>\n",
              "    </g>\n",
              "</svg>\n",
              "      </button>\n",
              "\n",
              "<style>\n",
              "  .colab-df-quickchart {\n",
              "      --bg-color: #E8F0FE;\n",
              "      --fill-color: #1967D2;\n",
              "      --hover-bg-color: #E2EBFA;\n",
              "      --hover-fill-color: #174EA6;\n",
              "      --disabled-fill-color: #AAA;\n",
              "      --disabled-bg-color: #DDD;\n",
              "  }\n",
              "\n",
              "  [theme=dark] .colab-df-quickchart {\n",
              "      --bg-color: #3B4455;\n",
              "      --fill-color: #D2E3FC;\n",
              "      --hover-bg-color: #434B5C;\n",
              "      --hover-fill-color: #FFFFFF;\n",
              "      --disabled-bg-color: #3B4455;\n",
              "      --disabled-fill-color: #666;\n",
              "  }\n",
              "\n",
              "  .colab-df-quickchart {\n",
              "    background-color: var(--bg-color);\n",
              "    border: none;\n",
              "    border-radius: 50%;\n",
              "    cursor: pointer;\n",
              "    display: none;\n",
              "    fill: var(--fill-color);\n",
              "    height: 32px;\n",
              "    padding: 0;\n",
              "    width: 32px;\n",
              "  }\n",
              "\n",
              "  .colab-df-quickchart:hover {\n",
              "    background-color: var(--hover-bg-color);\n",
              "    box-shadow: 0 1px 2px rgba(60, 64, 67, 0.3), 0 1px 3px 1px rgba(60, 64, 67, 0.15);\n",
              "    fill: var(--button-hover-fill-color);\n",
              "  }\n",
              "\n",
              "  .colab-df-quickchart-complete:disabled,\n",
              "  .colab-df-quickchart-complete:disabled:hover {\n",
              "    background-color: var(--disabled-bg-color);\n",
              "    fill: var(--disabled-fill-color);\n",
              "    box-shadow: none;\n",
              "  }\n",
              "\n",
              "  .colab-df-spinner {\n",
              "    border: 2px solid var(--fill-color);\n",
              "    border-color: transparent;\n",
              "    border-bottom-color: var(--fill-color);\n",
              "    animation:\n",
              "      spin 1s steps(1) infinite;\n",
              "  }\n",
              "\n",
              "  @keyframes spin {\n",
              "    0% {\n",
              "      border-color: transparent;\n",
              "      border-bottom-color: var(--fill-color);\n",
              "      border-left-color: var(--fill-color);\n",
              "    }\n",
              "    20% {\n",
              "      border-color: transparent;\n",
              "      border-left-color: var(--fill-color);\n",
              "      border-top-color: var(--fill-color);\n",
              "    }\n",
              "    30% {\n",
              "      border-color: transparent;\n",
              "      border-left-color: var(--fill-color);\n",
              "      border-top-color: var(--fill-color);\n",
              "      border-right-color: var(--fill-color);\n",
              "    }\n",
              "    40% {\n",
              "      border-color: transparent;\n",
              "      border-right-color: var(--fill-color);\n",
              "      border-top-color: var(--fill-color);\n",
              "    }\n",
              "    60% {\n",
              "      border-color: transparent;\n",
              "      border-right-color: var(--fill-color);\n",
              "    }\n",
              "    80% {\n",
              "      border-color: transparent;\n",
              "      border-right-color: var(--fill-color);\n",
              "      border-bottom-color: var(--fill-color);\n",
              "    }\n",
              "    90% {\n",
              "      border-color: transparent;\n",
              "      border-bottom-color: var(--fill-color);\n",
              "    }\n",
              "  }\n",
              "</style>\n",
              "\n",
              "      <script>\n",
              "        async function quickchart(key) {\n",
              "          const quickchartButtonEl =\n",
              "            document.querySelector('#' + key + ' button');\n",
              "          quickchartButtonEl.disabled = true;  // To prevent multiple clicks.\n",
              "          quickchartButtonEl.classList.add('colab-df-spinner');\n",
              "          try {\n",
              "            const charts = await google.colab.kernel.invokeFunction(\n",
              "                'suggestCharts', [key], {});\n",
              "          } catch (error) {\n",
              "            console.error('Error during call to suggestCharts:', error);\n",
              "          }\n",
              "          quickchartButtonEl.classList.remove('colab-df-spinner');\n",
              "          quickchartButtonEl.classList.add('colab-df-quickchart-complete');\n",
              "        }\n",
              "        (() => {\n",
              "          let quickchartButtonEl =\n",
              "            document.querySelector('#df-fc3280d4-fe00-405e-ba8d-1843f959352b button');\n",
              "          quickchartButtonEl.style.display =\n",
              "            google.colab.kernel.accessAllowed ? 'block' : 'none';\n",
              "        })();\n",
              "      </script>\n",
              "    </div>\n",
              "\n",
              "    </div>\n",
              "  </div>\n"
            ],
            "application/vnd.google.colaboratory.intrinsic+json": {
              "type": "dataframe",
              "summary": "{\n  \"name\": \"df_entrega[['ID', 'Smoking']]\",\n  \"rows\": 5,\n  \"fields\": [\n    {\n      \"column\": \"ID\",\n      \"properties\": {\n        \"dtype\": \"number\",\n        \"std\": 9,\n        \"min\": 27358,\n        \"max\": 27381,\n        \"num_unique_values\": 5,\n        \"samples\": [\n          27364,\n          27381,\n          27368\n        ],\n        \"semantic_type\": \"\",\n        \"description\": \"\"\n      }\n    },\n    {\n      \"column\": \"Smoking\",\n      \"properties\": {\n        \"dtype\": \"number\",\n        \"std\": 0,\n        \"min\": 0,\n        \"max\": 1,\n        \"num_unique_values\": 2,\n        \"samples\": [\n          0,\n          1\n        ],\n        \"semantic_type\": \"\",\n        \"description\": \"\"\n      }\n    }\n  ]\n}"
            }
          },
          "metadata": {},
          "execution_count": 68
        }
      ]
    },
    {
      "cell_type": "code",
      "source": [
        "df_entrega.to_excel(\"predicciones_entrega_final.xlsx\", index=False)\n"
      ],
      "metadata": {
        "id": "_AC5v8r9vY_N"
      },
      "execution_count": 69,
      "outputs": []
    }
  ]
}